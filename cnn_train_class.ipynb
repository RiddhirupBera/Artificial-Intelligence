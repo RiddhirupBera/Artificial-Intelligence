{
 "cells": [
  {
   "cell_type": "code",
   "execution_count": 2,
   "id": "ffda30f3",
   "metadata": {},
   "outputs": [],
   "source": [
    "from tensorflow.keras.models import Sequential\n",
    "from tensorflow.keras.layers import Dense,Convolution2D,MaxPooling2D,Flatten"
   ]
  },
  {
   "cell_type": "code",
   "execution_count": 3,
   "id": "b708a62a",
   "metadata": {},
   "outputs": [],
   "source": [
    "# augmentating the images by rescaling and applying more features"
   ]
  },
  {
   "cell_type": "code",
   "execution_count": 5,
   "id": "cc215842",
   "metadata": {},
   "outputs": [],
   "source": [
    "from tensorflow.keras.preprocessing.image import ImageDataGenerator"
   ]
  },
  {
   "cell_type": "code",
   "execution_count": 10,
   "id": "d21a79f7",
   "metadata": {},
   "outputs": [],
   "source": [
    "train_datagen = ImageDataGenerator(rescale = 1./255,shear_range = 0.2,zoom_range = 0.2,horizontal_flip = True)\n",
    "test_datagen = ImageDataGenerator(rescale = 1./255)\n",
    "# 3 augmentation features"
   ]
  },
  {
   "cell_type": "code",
   "execution_count": 12,
   "id": "f84de114",
   "metadata": {},
   "outputs": [
    {
     "name": "stdout",
     "output_type": "stream",
     "text": [
      "Found 1495 images belonging to 5 classes.\n"
     ]
    }
   ],
   "source": [
    "x_train = train_datagen.flow_from_directory('/home/riddhirup/Downloads/Crop-animal data/trainset',target_size = (64,64),batch_size = 32,class_mode = 'categorical')"
   ]
  },
  {
   "cell_type": "code",
   "execution_count": 13,
   "id": "6098c947",
   "metadata": {},
   "outputs": [
    {
     "name": "stdout",
     "output_type": "stream",
     "text": [
      "Found 640 images belonging to 5 classes.\n"
     ]
    }
   ],
   "source": [
    "x_test = test_datagen.flow_from_directory('/home/riddhirup/Downloads/Crop-animal data/testset',target_size = (64,64),batch_size = 32,class_mode = 'categorical')"
   ]
  },
  {
   "cell_type": "code",
   "execution_count": 14,
   "id": "87feb0aa",
   "metadata": {},
   "outputs": [
    {
     "data": {
      "text/plain": [
       "{'bears': 0, 'crows': 1, 'elephants': 2, 'racoons': 3, 'rats': 4}"
      ]
     },
     "execution_count": 14,
     "metadata": {},
     "output_type": "execute_result"
    }
   ],
   "source": [
    "x_train.class_indices"
   ]
  },
  {
   "cell_type": "code",
   "execution_count": 39,
   "id": "33b8deaa",
   "metadata": {},
   "outputs": [],
   "source": [
    "model = Sequential() \n"
   ]
  },
  {
   "cell_type": "code",
   "execution_count": 40,
   "id": "e8ce74bc",
   "metadata": {},
   "outputs": [],
   "source": [
    "model.add(Convolution2D(32,(3,3),input_shape = (64,64,3)))\n",
    "# 32 feature detectors of size 3*3, 64*64*3 3 indicates color image channels"
   ]
  },
  {
   "cell_type": "code",
   "execution_count": 41,
   "id": "174436b9",
   "metadata": {},
   "outputs": [],
   "source": [
    "model.add(MaxPooling2D((2,2))) # 2,2--> Pool Size, common pixels which we take"
   ]
  },
  {
   "cell_type": "code",
   "execution_count": 42,
   "id": "b0fb0679",
   "metadata": {},
   "outputs": [],
   "source": [
    "model.add(Flatten()) # inputs"
   ]
  },
  {
   "cell_type": "code",
   "execution_count": 43,
   "id": "b87a39f6",
   "metadata": {},
   "outputs": [],
   "source": [
    "model.add(Dense(units = 128, kernel_initializer = \"random_uniform\", activation = \"relu\" ))\n",
    "model.add(Dense(units = 128, kernel_initializer = \"random_uniform\", activation = \"relu\" ))"
   ]
  },
  {
   "cell_type": "code",
   "execution_count": 44,
   "id": "ea5a3bd1",
   "metadata": {},
   "outputs": [],
   "source": [
    "model.add(Dense(units = 5, kernel_initializer = \"random_uniform\", activation = \"softmax\" ))"
   ]
  },
  {
   "cell_type": "code",
   "execution_count": 45,
   "id": "d66356b1",
   "metadata": {},
   "outputs": [],
   "source": [
    "model.compile(optimizer = \"adam\",loss = \"categorical_crossentropy\",metrics = [\"accuracy\"])"
   ]
  },
  {
   "cell_type": "code",
   "execution_count": 46,
   "id": "75468044",
   "metadata": {},
   "outputs": [
    {
     "name": "stdout",
     "output_type": "stream",
     "text": [
      "Epoch 1/10\n",
      "47/47 [==============================] - 20s 396ms/step - loss: 1.5904 - accuracy: 0.2859 - val_loss: 1.3828 - val_accuracy: 0.2891\n",
      "Epoch 2/10\n",
      "47/47 [==============================] - 14s 291ms/step - loss: 1.3363 - accuracy: 0.4693 - val_loss: 1.1559 - val_accuracy: 0.5016\n",
      "Epoch 3/10\n",
      "47/47 [==============================] - 14s 290ms/step - loss: 1.2015 - accuracy: 0.5366 - val_loss: 1.1719 - val_accuracy: 0.5281\n",
      "Epoch 4/10\n",
      "47/47 [==============================] - 14s 285ms/step - loss: 1.0287 - accuracy: 0.6116 - val_loss: 0.7283 - val_accuracy: 0.7422\n",
      "Epoch 5/10\n",
      "47/47 [==============================] - 15s 314ms/step - loss: 0.9386 - accuracy: 0.6411 - val_loss: 0.6595 - val_accuracy: 0.7547\n",
      "Epoch 6/10\n",
      "47/47 [==============================] - 14s 290ms/step - loss: 0.7877 - accuracy: 0.7081 - val_loss: 0.7504 - val_accuracy: 0.7000\n",
      "Epoch 7/10\n",
      "47/47 [==============================] - 14s 291ms/step - loss: 0.6990 - accuracy: 0.7527 - val_loss: 0.7840 - val_accuracy: 0.7141\n",
      "Epoch 8/10\n",
      "47/47 [==============================] - 14s 292ms/step - loss: 0.6225 - accuracy: 0.7593 - val_loss: 0.6298 - val_accuracy: 0.7672\n",
      "Epoch 9/10\n",
      "47/47 [==============================] - 14s 293ms/step - loss: 0.5984 - accuracy: 0.7722 - val_loss: 0.4652 - val_accuracy: 0.8000\n",
      "Epoch 10/10\n",
      "47/47 [==============================] - 14s 290ms/step - loss: 0.4522 - accuracy: 0.8525 - val_loss: 0.5961 - val_accuracy: 0.7797\n"
     ]
    },
    {
     "data": {
      "text/plain": [
       "<tensorflow.python.keras.callbacks.History at 0x7f78d6400790>"
      ]
     },
     "execution_count": 46,
     "metadata": {},
     "output_type": "execute_result"
    }
   ],
   "source": [
    "model.fit_generator(x_train,steps_per_epoch = 47 , epochs = 10 , validation_data = x_test,validation_steps = 20) "
   ]
  },
  {
   "cell_type": "code",
   "execution_count": 47,
   "id": "a2eabef8",
   "metadata": {},
   "outputs": [
    {
     "data": {
      "text/plain": [
       "46.71875"
      ]
     },
     "execution_count": 47,
     "metadata": {},
     "output_type": "execute_result"
    }
   ],
   "source": [
    "1495/32"
   ]
  },
  {
   "cell_type": "code",
   "execution_count": 48,
   "id": "b86bfce7",
   "metadata": {},
   "outputs": [
    {
     "data": {
      "text/plain": [
       "20.0"
      ]
     },
     "execution_count": 48,
     "metadata": {},
     "output_type": "execute_result"
    }
   ],
   "source": [
    "640/32\n"
   ]
  },
  {
   "cell_type": "code",
   "execution_count": 50,
   "id": "fb40c8ad",
   "metadata": {},
   "outputs": [],
   "source": [
    "model.save('animal_classifier.h5')"
   ]
  },
  {
   "cell_type": "code",
   "execution_count": null,
   "id": "21639ef3",
   "metadata": {},
   "outputs": [],
   "source": []
  },
  {
   "cell_type": "code",
   "execution_count": null,
   "id": "a928f75a",
   "metadata": {},
   "outputs": [],
   "source": []
  },
  {
   "cell_type": "code",
   "execution_count": null,
   "id": "2394174c",
   "metadata": {},
   "outputs": [],
   "source": []
  }
 ],
 "metadata": {
  "kernelspec": {
   "display_name": "Python 3",
   "language": "python",
   "name": "python3"
  },
  "language_info": {
   "codemirror_mode": {
    "name": "ipython",
    "version": 3
   },
   "file_extension": ".py",
   "mimetype": "text/x-python",
   "name": "python",
   "nbconvert_exporter": "python",
   "pygments_lexer": "ipython3",
   "version": "3.9.5"
  }
 },
 "nbformat": 4,
 "nbformat_minor": 5
}
